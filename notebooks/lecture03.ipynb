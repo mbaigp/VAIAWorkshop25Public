{
 "cells": [
  {
   "cell_type": "markdown",
   "id": "c6fe2735",
   "metadata": {},
   "source": [
    "Virtual Acoustics and Immersive Audio Workshop - CCRMA Stanford University  \n",
    "23.07.25 - Orchisama Das, Gloria Dal Santo\n",
    "  \n",
    "### L03: Artificial Reverberation with Delay Networks\n",
    "\n",
    "In this assignment we will \n",
    "- Create a Feedback Delay Network\n",
    "- Generate various orthogonal feedback matrices: identity, random orthogonal, Hadamard, Householder (See [Table](https://dafx2020.mdw.ac.at/proceedings/papers/DAFx2020_paper_53.pdf)).\n",
    "- Implement time-domain processing for mono input/output with any number of delay lines.\n",
    "- Process the anechoic signals from Assignment 2 with the FDN. Use an impulse to hear the impulse response.\n",
    "- Modify FDN parameters and size; observe and listen to how they affect the output."
   ]
  },
  {
   "cell_type": "code",
   "execution_count": null,
   "id": "8bdfe389",
   "metadata": {},
   "outputs": [],
   "source": [
    "# --- Imports ---\n",
    "import numpy as np\n",
    "import IPython.display as ipd\n",
    "\n",
    "from pathlib import Path\n",
    "from room_acoustics.fdn import FeedbackDelayNetwork\n",
    "\n",
    "from utils import audioread\n",
    "from room_acoustics.plot import plot_time_domain"
   ]
  },
  {
   "cell_type": "markdown",
   "id": "22abf01b",
   "metadata": {},
   "source": [
    "#### 1. Create a Feedback Delay Network\n",
    "\n",
    "Head to `room_acoustics.fdn`, you will find a partially coded class `FeedbackDelayNetwork`. You will have to\n",
    "- 1.1 Complete the `get_feedback_matrix` method that generates the feedback matrix based on the specified type. \n",
    "- 1.2 Complete the `process` function that perform time domain processing of an input signal through the FDN\n",
    "- 1.3 In the cell below, generate and impulse signal and process it with the FDN to obtain the synthetic RIR. \n",
    "- 1.4 Process the dry signals `data/Drums.wav`, `data/Sax.wav`, and `data/Speech.wav`. "
   ]
  },
  {
   "cell_type": "code",
   "execution_count": null,
   "id": "6f9f2a55",
   "metadata": {},
   "outputs": [],
   "source": [
    "# --- FDN Impulse Response ---\n",
    "fs = 48000\n",
    "fdn = FeedbackDelayNetwork(\n",
    "    sample_rate = fs,\n",
    "    delay_lengths=[809, 877, 937, 1049, 1151, 1249, 1373, 1499],\n",
    "    feedback_matrix_type='random',\n",
    "    t60 = 2.0\n",
    ")\n",
    "\n",
    "### WRITE YOUR CODE HERE ###\n",
    "# generate an impulse signal\n",
    "\n",
    "fdn.process(input_signal)\n",
    "plot_time_domain(fdn.output, fs=fs, title='FDN Impulse Response')\n",
    "ipd.display(ipd.Audio(fdn.output, rate=fs))"
   ]
  },
  {
   "cell_type": "markdown",
   "id": "a7e164c3",
   "metadata": {},
   "source": [
    "#### 2. Process Anechoic Signals \n",
    "\n",
    "Process the dry signals `data/Drums.wav`, `data/Sax.wav`, and `data/Speech.wav`. "
   ]
  },
  {
   "cell_type": "code",
   "execution_count": null,
   "id": "8fc2aa99",
   "metadata": {},
   "outputs": [],
   "source": [
    "# --- Process Anechoic Sounds with the FDN ---\n",
    "anechoic = ['Drums', 'Sax', 'Speech']\n",
    "\n",
    "for filename in anechoic:\n",
    "    rec_path = Path('..') / 'data' / f'{filename}.wav'\n",
    "    rec, fs = audioread(str(rec_path))\n",
    "    fdn.process(rec)\n",
    "\n",
    "    print(f\"{filename}\")\n",
    "    ipd.display(ipd.Audio(fdn.output, rate=fs))\n"
   ]
  },
  {
   "cell_type": "markdown",
   "id": "466f4d3e",
   "metadata": {},
   "source": [
    "#### 3. Try different parameters! \n",
    "\n",
    "You can try different combinations of parameters: \n",
    "- Change the size of the FDN. What is a good sounding size? \n",
    "- Change the type of feedback matrix and the length of the delay lines.\n",
    "- If you have time, you can try to implement a simple first order low pass filer instead of the homogenous loss. "
   ]
  }
 ],
 "metadata": {
  "kernelspec": {
   "display_name": ".venv",
   "language": "python",
   "name": "python3"
  },
  "language_info": {
   "codemirror_mode": {
    "name": "ipython",
    "version": 3
   },
   "file_extension": ".py",
   "mimetype": "text/x-python",
   "name": "python",
   "nbconvert_exporter": "python",
   "pygments_lexer": "ipython3",
   "version": "3.10.15"
  }
 },
 "nbformat": 4,
 "nbformat_minor": 5
}
